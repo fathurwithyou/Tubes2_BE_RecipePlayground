{
 "cells": [
  {
   "cell_type": "code",
   "execution_count": 34,
   "id": "7b5cab97",
   "metadata": {},
   "outputs": [
    {
     "name": "stdout",
     "output_type": "stream",
     "text": [
      "Requirement already satisfied: beautifulsoup4 in c:\\users\\ellipsis\\anaconda3\\envs\\py39\\lib\\site-packages (4.13.4)\n",
      "Requirement already satisfied: soupsieve>1.2 in c:\\users\\ellipsis\\anaconda3\\envs\\py39\\lib\\site-packages (from beautifulsoup4) (2.7)\n",
      "Requirement already satisfied: typing-extensions>=4.0.0 in c:\\users\\ellipsis\\anaconda3\\envs\\py39\\lib\\site-packages (from beautifulsoup4) (4.12.2)\n",
      "Requirement already satisfied: requests in c:\\users\\ellipsis\\anaconda3\\envs\\py39\\lib\\site-packages (2.32.3)\n",
      "Requirement already satisfied: charset-normalizer<4,>=2 in c:\\users\\ellipsis\\anaconda3\\envs\\py39\\lib\\site-packages (from requests) (3.4.1)\n",
      "Requirement already satisfied: idna<4,>=2.5 in c:\\users\\ellipsis\\anaconda3\\envs\\py39\\lib\\site-packages (from requests) (3.10)\n",
      "Requirement already satisfied: urllib3<3,>=1.21.1 in c:\\users\\ellipsis\\anaconda3\\envs\\py39\\lib\\site-packages (from requests) (2.3.0)\n",
      "Requirement already satisfied: certifi>=2017.4.17 in c:\\users\\ellipsis\\anaconda3\\envs\\py39\\lib\\site-packages (from requests) (2025.1.31)\n"
     ]
    }
   ],
   "source": [
    "!pip install beautifulsoup4\n",
    "!pip install requests"
   ]
  },
  {
   "cell_type": "code",
   "execution_count": 39,
   "id": "a738d08a",
   "metadata": {},
   "outputs": [],
   "source": [
    "from bs4 import BeautifulSoup\n",
    "import requests\n",
    "import json\n",
    "import pandas as pd"
   ]
  },
  {
   "cell_type": "markdown",
   "id": "94d74aab",
   "metadata": {},
   "source": [
    "## Tier Elements"
   ]
  },
  {
   "cell_type": "code",
   "execution_count": 49,
   "id": "e95dbcad",
   "metadata": {},
   "outputs": [
    {
     "name": "stdout",
     "output_type": "stream",
     "text": [
      "Found 16 tables.\n",
      "✅ Elements and recipes scraped successfully.\n"
     ]
    }
   ],
   "source": [
    "def scrape(start=0, end=None, filename=None):\n",
    "    url = \"https://little-alchemy.fandom.com/wiki/Elements_(Little_Alchemy_2)\"\n",
    "\n",
    "    response = requests.get(url)\n",
    "    soup = BeautifulSoup(response.content, 'html.parser')\n",
    "\n",
    "    result = {\"elements\": []}\n",
    "\n",
    "    # remove the second table (the one with the \"Special\" elements)\n",
    "    tables = soup.find_all(\"table\", class_=\"list-table col-list icon-hover\")\n",
    "    tables.remove(tables[1])\n",
    "\n",
    "    print(f\"Found {len(tables)} tables.\")\n",
    "\n",
    "    tier = 0\n",
    "    for table in tables:\n",
    "        try:\n",
    "            rows = table.find_all(\"tr\")[1:] \n",
    "\n",
    "            for row in rows:\n",
    "                cols = row.find_all(\"td\")\n",
    "                if len(cols) < 2:\n",
    "                    continue\n",
    "\n",
    "                # Element name from first td > a (but only direct <a>, not inside span)\n",
    "                element_name = None\n",
    "                for child in cols[0].children:\n",
    "                    if child.name == \"a\":\n",
    "                        element_name = child.get(\"title\")\n",
    "                        break\n",
    "\n",
    "                if not element_name:\n",
    "                    continue  # Skip if no valid element name found\n",
    "                \n",
    "                # Recipes from second td > ul > li > a\n",
    "                recipes = []\n",
    "                recipe_ul = cols[1].find(\"ul\")\n",
    "                if recipe_ul:\n",
    "                    recipe_li = recipe_ul.find_all(\"li\")\n",
    "                    for li in recipe_li:\n",
    "                        all_a = li.find_all(\"a\")\n",
    "                        all_a = [link.get(\"title\") for link in all_a if link.get(\"title\") is not None]\n",
    "                        recipes.append(all_a)\n",
    "\n",
    "                result[\"elements\"].append({\n",
    "                    \"name\": element_name,\n",
    "                    \"recipes\": recipes,\n",
    "                    \"tier\": tier\n",
    "                })\n",
    "                \n",
    "            tier += 1\n",
    "    \n",
    "        except Exception as e:\n",
    "            print(f\"Error processing table: {e}\")\n",
    "            \n",
    "    with open(filename, \"w\") as f:\n",
    "        json.dump(result, f, indent=2)\n",
    "\n",
    "    print(\"✅ Elements and recipes scraped successfully.\")\n",
    "\n",
    "scrape(start=0,filename=\"alchemy_elements_tier.json\")"
   ]
  }
 ],
 "metadata": {
  "kernelspec": {
   "display_name": "py39",
   "language": "python",
   "name": "python3"
  },
  "language_info": {
   "codemirror_mode": {
    "name": "ipython",
    "version": 3
   },
   "file_extension": ".py",
   "mimetype": "text/x-python",
   "name": "python",
   "nbconvert_exporter": "python",
   "pygments_lexer": "ipython3",
   "version": "3.9.21"
  }
 },
 "nbformat": 4,
 "nbformat_minor": 5
}
